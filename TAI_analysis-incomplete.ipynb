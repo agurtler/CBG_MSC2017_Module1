{
 "cells": [
  {
   "cell_type": "markdown",
   "metadata": {
    "extensions": {
     "jupyter_dashboards": {
      "version": 1,
      "views": {
       "grid_default": {
        "col": 0,
        "height": 6,
        "hidden": false,
        "row": 0,
        "width": 12
       },
       "report_default": {
        "hidden": false
       }
      }
     }
    },
    "nbpresent": {
     "id": "94ccb58c-75e6-45b9-a50b-c713674905a6"
    }
   },
   "source": [
    "# Module 1: Is the hourglass model for gene expression really supported by the data?\n",
    "### Paper to be examined: \n",
    "“A phylogenetically based transcriptome age index mirrors ontogenetic divergence patterns”, Nature 9;468(7325):815-8 (2010)[1]\n",
    "### Key claim of the paper: \n",
    "\"Gene expression follows the so-called hourglass pattern observed for morphological features of development, which are most similar to each other in the phylotypic stage in mid-development.\"\n",
    "\n",
    "### Schedule:\n",
    "* H1: General introduction to the paper/motivation\n",
    "* H2-3: Write code to import the data and start computing transcriptome age index (TAI)\n",
    "* H4-6: Aim to reproduce figure 1 of the paper – help/scripts will be given if needed.\n",
    "* H7: Discussion: “Are you convinced of this result? What might have gone wrong?”\n",
    "* H8: Redo analysis using log-transformed data\n",
    "* H9: Summarize results (e.g. on this wiki)\n",
    "\n",
    "\n",
    "### Key bioinformatics concept of this module: \n",
    "\"Data normalization is important and can impact the results of subsequent analyses!\"\n"
   ]
  },
  {
   "cell_type": "markdown",
   "metadata": {
    "extensions": {
     "jupyter_dashboards": {
      "version": 1,
      "views": {
       "grid_default": {},
       "report_default": {
        "hidden": false
       }
      }
     }
    },
    "nbpresent": {
     "id": "a8ffc5d5-1f8e-40cf-bc5d-261d462c3778"
    }
   },
   "source": [
    "# Installation and Setup\n",
    "\n",
    "* Install the Anaconda distribution of Python 3.x.\n"
   ]
  },
  {
   "cell_type": "markdown",
   "metadata": {
    "extensions": {
     "jupyter_dashboards": {
      "version": 1,
      "views": {
       "grid_default": {},
       "report_default": {
        "hidden": false
       }
      }
     }
    },
    "nbpresent": {
     "id": "fe718580-021c-43bb-ab0d-41037543f051"
    }
   },
   "source": [
    "# Libraries\n",
    "Will be using [**GEOparse**](https://geoparse.readthedocs.io/en/latest/usage.html#working-with-geo-accession) for for fetching gene expression data and [**pandas**](https://pandas.pydata.org/pandas-docs/stable/10min.html) for data manipulation and preprocessing."
   ]
  },
  {
   "cell_type": "code",
   "execution_count": 3,
   "metadata": {
    "collapsed": true,
    "extensions": {
     "jupyter_dashboards": {
      "version": 1,
      "views": {
       "grid_default": {
        "hidden": true
       },
       "report_default": {
        "hidden": true
       }
      }
     }
    },
    "nbpresent": {
     "id": "cee38582-025b-4126-9b52-142612b10ffd"
    }
   },
   "outputs": [],
   "source": [
    "########### import necessary packages\n",
    "import pandas as pd\n",
    "import numpy as np\n",
    "import GEOparse\n",
    "import matplotlib.pyplot as plt"
   ]
  },
  {
   "cell_type": "markdown",
   "metadata": {
    "extensions": {
     "jupyter_dashboards": {
      "version": 1,
      "views": {
       "grid_default": {
        "col": 0,
        "height": 10,
        "hidden": false,
        "row": 6,
        "width": 12
       },
       "report_default": {
        "hidden": false
       }
      }
     }
    },
    "nbpresent": {
     "id": "ee3342b3-8f54-4db8-b879-7ab3f9997a65"
    }
   },
   "source": [
    "# Read gene expression data \n"
   ]
  },
  {
   "cell_type": "code",
   "execution_count": 4,
   "metadata": {},
   "outputs": [
    {
     "name": "stderr",
     "output_type": "stream",
     "text": [
      "06-Nov-2017 11:26:09 INFO GEOparse - Downloading ftp://ftp.ncbi.nlm.nih.gov/geo/series/GSE24nnn/GSE24616/soft/GSE24616_family.soft.gz to ./GSE24616_family.soft.gz\n",
      "06-Nov-2017 11:26:09 INFO utils - Downloading ftp://ftp.ncbi.nlm.nih.gov/geo/series/GSE24nnn/GSE24616/soft/GSE24616_family.soft.gz to ./GSE24616_family.soft.gz\n",
      "\n"
     ]
    },
    {
     "name": "stdout",
     "output_type": "stream",
     "text": [
      "D: 99% - 50.1MiB  / 50.6MiB  eta 0:00:00D: 45% - 23.2MiB  / 50.6MiB  eta 0:00:12\r"
     ]
    },
    {
     "name": "stderr",
     "output_type": "stream",
     "text": [
      "06-Nov-2017 11:26:34 DEBUG GEOparse - SAMPLE: GSM606868\n",
      "06-Nov-2017 11:26:35 DEBUG GEOparse - SAMPLE: GSM606869\n",
      "06-Nov-2017 11:26:35 DEBUG GEOparse - SAMPLE: GSM606870\n",
      "06-Nov-2017 11:26:35 DEBUG GEOparse - SAMPLE: GSM606871\n",
      "06-Nov-2017 11:26:35 DEBUG GEOparse - SAMPLE: GSM606872\n",
      "06-Nov-2017 11:26:35 DEBUG GEOparse - SAMPLE: GSM606873\n",
      "06-Nov-2017 11:26:35 DEBUG GEOparse - SAMPLE: GSM606874\n",
      "06-Nov-2017 11:26:35 DEBUG GEOparse - SAMPLE: GSM606875\n",
      "06-Nov-2017 11:26:35 DEBUG GEOparse - SAMPLE: GSM606876\n",
      "06-Nov-2017 11:26:36 DEBUG GEOparse - SAMPLE: GSM606877\n",
      "06-Nov-2017 11:26:36 DEBUG GEOparse - SAMPLE: GSM606878\n",
      "06-Nov-2017 11:26:36 DEBUG GEOparse - SAMPLE: GSM606879\n",
      "06-Nov-2017 11:26:36 DEBUG GEOparse - SAMPLE: GSM606880\n",
      "06-Nov-2017 11:26:36 DEBUG GEOparse - SAMPLE: GSM606881\n",
      "06-Nov-2017 11:26:36 DEBUG GEOparse - SAMPLE: GSM606882\n",
      "06-Nov-2017 11:26:36 DEBUG GEOparse - SAMPLE: GSM606883\n",
      "06-Nov-2017 11:26:36 DEBUG GEOparse - SAMPLE: GSM606884\n",
      "06-Nov-2017 11:26:37 DEBUG GEOparse - SAMPLE: GSM606885\n",
      "06-Nov-2017 11:26:37 DEBUG GEOparse - SAMPLE: GSM606886\n",
      "06-Nov-2017 11:26:37 DEBUG GEOparse - SAMPLE: GSM606887\n",
      "06-Nov-2017 11:26:37 DEBUG GEOparse - SAMPLE: GSM606888\n",
      "06-Nov-2017 11:26:37 DEBUG GEOparse - SAMPLE: GSM606889\n",
      "06-Nov-2017 11:26:37 DEBUG GEOparse - SAMPLE: GSM606890\n",
      "06-Nov-2017 11:26:37 DEBUG GEOparse - SAMPLE: GSM606891\n",
      "06-Nov-2017 11:26:37 DEBUG GEOparse - SAMPLE: GSM606892\n",
      "06-Nov-2017 11:26:37 DEBUG GEOparse - SAMPLE: GSM606893\n",
      "06-Nov-2017 11:26:38 DEBUG GEOparse - SAMPLE: GSM606894\n",
      "06-Nov-2017 11:26:38 DEBUG GEOparse - SAMPLE: GSM606895\n",
      "06-Nov-2017 11:26:38 DEBUG GEOparse - SAMPLE: GSM606896\n",
      "06-Nov-2017 11:26:38 DEBUG GEOparse - SAMPLE: GSM606897\n",
      "06-Nov-2017 11:26:38 DEBUG GEOparse - SAMPLE: GSM606898\n",
      "06-Nov-2017 11:26:38 DEBUG GEOparse - SAMPLE: GSM606899\n",
      "06-Nov-2017 11:26:38 DEBUG GEOparse - SAMPLE: GSM606900\n",
      "06-Nov-2017 11:26:38 DEBUG GEOparse - SAMPLE: GSM606901\n",
      "06-Nov-2017 11:26:39 DEBUG GEOparse - SAMPLE: GSM606902\n",
      "06-Nov-2017 11:26:39 DEBUG GEOparse - SAMPLE: GSM606903\n",
      "06-Nov-2017 11:26:39 DEBUG GEOparse - SAMPLE: GSM606904\n",
      "06-Nov-2017 11:26:39 DEBUG GEOparse - SAMPLE: GSM606905\n",
      "06-Nov-2017 11:26:39 DEBUG GEOparse - SAMPLE: GSM606906\n",
      "06-Nov-2017 11:26:39 DEBUG GEOparse - SAMPLE: GSM606907\n",
      "06-Nov-2017 11:26:39 DEBUG GEOparse - SAMPLE: GSM606908\n",
      "06-Nov-2017 11:26:39 DEBUG GEOparse - SAMPLE: GSM606909\n",
      "06-Nov-2017 11:26:39 DEBUG GEOparse - SAMPLE: GSM606910\n",
      "06-Nov-2017 11:26:40 DEBUG GEOparse - SAMPLE: GSM606911\n",
      "06-Nov-2017 11:26:40 DEBUG GEOparse - SAMPLE: GSM606912\n",
      "06-Nov-2017 11:26:40 DEBUG GEOparse - SAMPLE: GSM606913\n",
      "06-Nov-2017 11:26:40 DEBUG GEOparse - SAMPLE: GSM606914\n",
      "06-Nov-2017 11:26:40 DEBUG GEOparse - SAMPLE: GSM606915\n",
      "06-Nov-2017 11:26:40 DEBUG GEOparse - SAMPLE: GSM606916\n",
      "06-Nov-2017 11:26:40 DEBUG GEOparse - SAMPLE: GSM606917\n",
      "06-Nov-2017 11:26:40 DEBUG GEOparse - SAMPLE: GSM606918\n",
      "06-Nov-2017 11:26:40 DEBUG GEOparse - SAMPLE: GSM606919\n",
      "06-Nov-2017 11:26:41 DEBUG GEOparse - SAMPLE: GSM606920\n",
      "06-Nov-2017 11:26:41 DEBUG GEOparse - SAMPLE: GSM606921\n",
      "06-Nov-2017 11:26:41 DEBUG GEOparse - SAMPLE: GSM606922\n",
      "06-Nov-2017 11:26:41 DEBUG GEOparse - SAMPLE: GSM606923\n",
      "06-Nov-2017 11:26:41 DEBUG GEOparse - SAMPLE: GSM606924\n",
      "06-Nov-2017 11:26:41 DEBUG GEOparse - SAMPLE: GSM606925\n",
      "06-Nov-2017 11:26:41 DEBUG GEOparse - SAMPLE: GSM606926\n",
      "06-Nov-2017 11:26:41 DEBUG GEOparse - SAMPLE: GSM606927\n",
      "06-Nov-2017 11:26:41 DEBUG GEOparse - SAMPLE: GSM606928\n",
      "06-Nov-2017 11:26:42 DEBUG GEOparse - SAMPLE: GSM606929\n",
      "06-Nov-2017 11:26:42 DEBUG GEOparse - SAMPLE: GSM606930\n",
      "06-Nov-2017 11:26:42 DEBUG GEOparse - SAMPLE: GSM606931\n",
      "06-Nov-2017 11:26:42 DEBUG GEOparse - SAMPLE: GSM606932\n",
      "06-Nov-2017 11:26:42 DEBUG GEOparse - SAMPLE: GSM606933\n",
      "06-Nov-2017 11:26:42 DEBUG GEOparse - SAMPLE: GSM606934\n",
      "06-Nov-2017 11:26:42 DEBUG GEOparse - SAMPLE: GSM606935\n",
      "06-Nov-2017 11:26:42 DEBUG GEOparse - SAMPLE: GSM606936\n",
      "06-Nov-2017 11:26:43 DEBUG GEOparse - SAMPLE: GSM606937\n",
      "06-Nov-2017 11:26:43 DEBUG GEOparse - SAMPLE: GSM606938\n",
      "06-Nov-2017 11:26:43 DEBUG GEOparse - SAMPLE: GSM606939\n",
      "06-Nov-2017 11:26:43 DEBUG GEOparse - SAMPLE: GSM606940\n",
      "06-Nov-2017 11:26:43 DEBUG GEOparse - SAMPLE: GSM606941\n",
      "06-Nov-2017 11:26:43 DEBUG GEOparse - SAMPLE: GSM606942\n",
      "06-Nov-2017 11:26:43 DEBUG GEOparse - SAMPLE: GSM606943\n",
      "06-Nov-2017 11:26:43 DEBUG GEOparse - SAMPLE: GSM606944\n",
      "06-Nov-2017 11:26:43 DEBUG GEOparse - SAMPLE: GSM606945\n",
      "06-Nov-2017 11:26:44 DEBUG GEOparse - SAMPLE: GSM606946\n",
      "06-Nov-2017 11:26:44 DEBUG GEOparse - SAMPLE: GSM606947\n",
      "06-Nov-2017 11:26:44 DEBUG GEOparse - SAMPLE: GSM606948\n",
      "06-Nov-2017 11:26:44 DEBUG GEOparse - SAMPLE: GSM606949\n",
      "06-Nov-2017 11:26:44 DEBUG GEOparse - SAMPLE: GSM606950\n",
      "06-Nov-2017 11:26:44 DEBUG GEOparse - SAMPLE: GSM606951\n",
      "06-Nov-2017 11:26:44 DEBUG GEOparse - SAMPLE: GSM606952\n",
      "06-Nov-2017 11:26:44 DEBUG GEOparse - SAMPLE: GSM606953\n",
      "06-Nov-2017 11:26:44 DEBUG GEOparse - SAMPLE: GSM606954\n",
      "06-Nov-2017 11:26:45 DEBUG GEOparse - SAMPLE: GSM606955\n",
      "06-Nov-2017 11:26:45 DEBUG GEOparse - SAMPLE: GSM606956\n",
      "06-Nov-2017 11:26:45 DEBUG GEOparse - SAMPLE: GSM606957\n",
      "06-Nov-2017 11:26:45 DEBUG GEOparse - SAMPLE: GSM606958\n",
      "06-Nov-2017 11:26:45 DEBUG GEOparse - SAMPLE: GSM606959\n",
      "06-Nov-2017 11:26:45 DEBUG GEOparse - SAMPLE: GSM606960\n",
      "06-Nov-2017 11:26:45 DEBUG GEOparse - SAMPLE: GSM606961\n",
      "06-Nov-2017 11:26:45 DEBUG GEOparse - SAMPLE: GSM606962\n",
      "06-Nov-2017 11:26:45 DEBUG GEOparse - SAMPLE: GSM606963\n",
      "06-Nov-2017 11:26:46 DEBUG GEOparse - SAMPLE: GSM606964\n",
      "06-Nov-2017 11:26:46 DEBUG GEOparse - SAMPLE: GSM606965\n",
      "06-Nov-2017 11:26:46 DEBUG GEOparse - SAMPLE: GSM606966\n",
      "06-Nov-2017 11:26:46 DEBUG GEOparse - SAMPLE: GSM606967\n",
      "06-Nov-2017 11:26:46 DEBUG GEOparse - SAMPLE: GSM606968\n",
      "06-Nov-2017 11:26:46 DEBUG GEOparse - SAMPLE: GSM606969\n",
      "06-Nov-2017 11:26:46 DEBUG GEOparse - SAMPLE: GSM606970\n",
      "06-Nov-2017 11:26:46 DEBUG GEOparse - SAMPLE: GSM606971\n",
      "06-Nov-2017 11:26:46 DEBUG GEOparse - SAMPLE: GSM606972\n",
      "06-Nov-2017 11:26:47 DEBUG GEOparse - SAMPLE: GSM606973\n",
      "06-Nov-2017 11:26:47 DEBUG GEOparse - SAMPLE: GSM606974\n",
      "06-Nov-2017 11:26:47 DEBUG GEOparse - SAMPLE: GSM606975\n",
      "06-Nov-2017 11:26:47 DEBUG GEOparse - SAMPLE: GSM606976\n",
      "06-Nov-2017 11:26:47 DEBUG GEOparse - SAMPLE: GSM606977\n",
      "06-Nov-2017 11:26:47 DEBUG GEOparse - SAMPLE: GSM606978\n",
      "06-Nov-2017 11:26:47 DEBUG GEOparse - SAMPLE: GSM606979\n",
      "06-Nov-2017 11:26:47 DEBUG GEOparse - SAMPLE: GSM606980\n",
      "06-Nov-2017 11:26:47 DEBUG GEOparse - SAMPLE: GSM606981\n",
      "06-Nov-2017 11:26:48 DEBUG GEOparse - SAMPLE: GSM606982\n",
      "06-Nov-2017 11:26:48 DEBUG GEOparse - SAMPLE: GSM606983\n",
      "06-Nov-2017 11:26:48 DEBUG GEOparse - SAMPLE: GSM606984\n",
      "06-Nov-2017 11:26:48 DEBUG GEOparse - SAMPLE: GSM606985\n",
      "06-Nov-2017 11:26:48 DEBUG GEOparse - SAMPLE: GSM606986\n",
      "06-Nov-2017 11:26:48 DEBUG GEOparse - SAMPLE: GSM606987\n",
      "06-Nov-2017 11:26:48 DEBUG GEOparse - SAMPLE: GSM606988\n",
      "06-Nov-2017 11:26:48 DEBUG GEOparse - SAMPLE: GSM606989\n",
      "06-Nov-2017 11:26:49 DEBUG GEOparse - SAMPLE: GSM606990\n",
      "06-Nov-2017 11:26:49 DEBUG GEOparse - SAMPLE: GSM606991\n",
      "06-Nov-2017 11:26:49 DEBUG GEOparse - SAMPLE: GSM606992\n",
      "06-Nov-2017 11:26:49 DEBUG GEOparse - SAMPLE: GSM606993\n",
      "06-Nov-2017 11:26:49 DEBUG GEOparse - SAMPLE: GSM606994\n",
      "06-Nov-2017 11:26:49 DEBUG GEOparse - SAMPLE: GSM606995\n",
      "06-Nov-2017 11:26:49 DEBUG GEOparse - SAMPLE: GSM606996\n",
      "06-Nov-2017 11:26:49 DEBUG GEOparse - SAMPLE: GSM606997\n",
      "06-Nov-2017 11:26:50 DEBUG GEOparse - SAMPLE: GSM606998\n",
      "06-Nov-2017 11:26:50 DEBUG GEOparse - SAMPLE: GSM606999\n",
      "06-Nov-2017 11:26:50 DEBUG GEOparse - SAMPLE: GSM607000\n",
      "06-Nov-2017 11:26:50 DEBUG GEOparse - SAMPLE: GSM607001\n",
      "06-Nov-2017 11:26:50 DEBUG GEOparse - SAMPLE: GSM607002\n",
      "06-Nov-2017 11:26:50 DEBUG GEOparse - SAMPLE: GSM607003\n",
      "06-Nov-2017 11:26:50 DEBUG GEOparse - SAMPLE: GSM607004\n",
      "06-Nov-2017 11:26:50 DEBUG GEOparse - SAMPLE: GSM607005\n",
      "06-Nov-2017 11:26:50 DEBUG GEOparse - SAMPLE: GSM607006\n",
      "06-Nov-2017 11:26:51 DEBUG GEOparse - SAMPLE: GSM607007\n",
      "06-Nov-2017 11:26:51 DEBUG GEOparse - SAMPLE: GSM607008\n",
      "06-Nov-2017 11:26:51 DEBUG GEOparse - SAMPLE: GSM607009\n",
      "06-Nov-2017 11:26:51 DEBUG GEOparse - SAMPLE: GSM607010\n",
      "06-Nov-2017 11:26:51 DEBUG GEOparse - SAMPLE: GSM607011\n",
      "06-Nov-2017 11:26:51 DEBUG GEOparse - SAMPLE: GSM607012\n"
     ]
    }
   ],
   "source": [
    "############# Download the data\n",
    "file_name = 'GSE24616'\n",
    "gse = GEOparse.get_GEO(geo=file_name, destdir=\"./\")"
   ]
  },
  {
   "cell_type": "markdown",
   "metadata": {
    "extensions": {
     "jupyter_dashboards": {
      "version": 1,
      "views": {
       "grid_default": {},
       "report_default": {
        "hidden": false
       }
      }
     }
    },
    "nbpresent": {
     "id": "cf0719ca-eef2-49ca-bf98-f9d185126b8a"
    }
   },
   "source": [
    "## GSE data structure:\n",
    "Let's take a look at gene expression data stucture and accession.\n",
    "\n",
    "**Data Sturcture:**\n",
    "    - gse.gsms\n",
    "        - gse.gsms.metadata\n",
    "        - gse.gsms.name\n",
    "        - gse.gsms.table\n",
    "    - gse.gpl\n",
    "        - gse.gpl.metadata\n",
    "        - gse.gpl.name\n",
    "        - gse.gpl.table\n",
    "        \n",
    "**GSE file name:** GSE24616"
   ]
  },
  {
   "cell_type": "code",
   "execution_count": 5,
   "metadata": {},
   "outputs": [
    {
     "name": "stdout",
     "output_type": "stream",
     "text": [
      "GSM example:\n",
      "Name:  GSM606866\n",
      "****************************************************************************************************\n",
      "Metadata:\n",
      " - title : egg_0min_mixed_rep1\n",
      " - geo_accession : GSM606866\n",
      " - status : Public on Dec 14 2010\n",
      " - submission_date : Oct 11 2010\n",
      " - last_update_date : Dec 14 2010\n",
      " - type : RNA\n",
      " - channel_count : 1\n",
      " - source_name_ch1 : unfertilised egg, 0min, mixed sex, replicate 1\n",
      " - organism_ch1 : Danio rerio\n",
      " - taxid_ch1 : 7955\n",
      " - characteristics_ch1 : strain: wild type, developmental stage: unfertilised egg, developmental timing: 0min, gender: mixed, number of individuals per sample: 50\n",
      " - treatment_protocol_ch1 : Staging was done according to post-fertilization time. Embryos were additionally staged under the dissecting microscope according to ref. 1 to check for the consistency of post-fertilization timing and morphological development at standard temperature (28.5 °C). Only healthy animals that showed the expected morphological features for a given post-fertilization time were sampled. Each sample contained around 50 individuals until the 1 day and 3 hour embryo stage, 15 individuals until the 10 day larval stage, 10 individuals until the 18 day larval stage, 5 individuals until the 45 day juvenile stage, while in later juvenile and adult stages we sampled males and females separately and each sample contained 2 individuals. All samples were snap frozen in liquid nitrogen and stored at -80 °C until RNA extraction. To avoid severe biases due to the excess of unfertilized eggs, we squeezed eggs from adult females before freezing them in liquid nitrogen. 1. (Kimmel CB, Ballard WW, Kimmel SR, Ullmann B, Schilling TF. Stages of embryonic development of the zebrafish. Dev Dyn. 1995 Jul;203(3):253-310.)\n",
      " - growth_protocol_ch1 : Zebrafish (Danio rerio) were kept in 12L flow-through tanks at 26.5 °C (around 60 animals per tank). For accurate staging, fertilized eggs were collected within 15 min intervals and incubated in Petri dishes at 28.5°C with water changes every 2-6 hours. After hatching, larvae were transferred to 1L tanks and kept at 28.5 °C.\n",
      " - molecule_ch1 : total RNA\n",
      " - extract_protocol_ch1 : Frozen tissues were homogenized in TRIZOL (Invitrogen) by shaking samples 4 min together with a 5mm steel bead in a bead mill (TissueLyser II, Qiagen) at 30 Hz (embryos and smaller larve) or by disruption (larger larvae, juveniles and adults) using rotor-stator homogenizer (Tissue Ruptor, Qiagen). Total RNA was isolated using TRIZOL plus protocol from Invitrogen and the quality and the yield was determined by BioAnalyzer 2100 (Agilent) and NanoDrop ND-1000 spectrophotometer (Thermo scientific)\n",
      " - label_ch1 : Cy3\n",
      " - label_protocol_ch1 : Cyanine-3 (Cy3) labeled cRNA was prepared from 400 ng RNA using the Agilent one-color Quick Amp Labeling Kit protocol according to the manufacturer's instructions, followed by RNAeasy column purification (QIAGEN, Valencia, CA).  Dye incorporation and cRNA yield were checked with the NanoDrop ND-1000 Spectrophotometer.\n",
      " - hyb_protocol : 1650 ng of Cy3-labelled cRNA (specific activity >9.0 pmol Cy3/ug cRNA) was fragmented at 60°C for 30 minutes in a reaction volume of 55 ul  following the manufacturers instructions. On completion of the fragmentation reaction, 55 ul of 2x Agilent hybridization buffer was added to the fragmentation mixture and hybridized to Agilent Zebrafish (V2) Gene Expression Microarray slides (4x44K) (G2519F) for 17 hours at 65°C in a rotating Agilent hybridization oven.  After hybridization, microarrays were washed 1 minute at room temperature with GE Wash Buffer 1 (Agilent) and 1 minute with 34°C GE Wash buffer 2 (Agilent), then dried 1 minute at room temperature.\n",
      " - scan_protocol : Slides were scanned immediately after washing and drying on the Agilent High-Resolution Microarray Scanner (G2505C) using one color scan setting for 4x44k array slides (Scan resolution 5um, Dye channel is set to Green and Green PMT is set to 100%).\n",
      " - description : Agilent Feature Extraction file:, US84303580_251916110387_S01_GE1_105_Dec08_1_4.txt., Gene expression in wild type zebrafish unfertilised egg, 0min, mixed sex, biological replicate 1.\n",
      " - data_processing : The scanned images were analyzed with Feature Extraction 10.7 Image Analysis Software (Agilent) using default parameters (protocol GE1_105_Dec08 and Grid: 019161_D_F_20080627) to obtain background subtracted and spatially detrended Processed Signal intensities.\n",
      " - platform_id : GPL6457\n",
      " - contact_name : Tomislav,,Domazet-Loso\n",
      " - contact_email : tdomazet@irb.hr\n",
      " - contact_laboratory : Laboratory of Evolutionary Genetics\n",
      " - contact_department : Division of Molecluar Biology\n",
      " - contact_institute : Ruder Boskovic Institute\n",
      " - contact_address : Bijenicka cesta 54\n",
      " - contact_city : Zagreb\n",
      " - contact_zip/postal_code : 10000\n",
      " - contact_country : Croatia\n",
      " - supplementary_file : ftp://ftp.ncbi.nlm.nih.gov/geo/samples/GSM606nnn/GSM606866/suppl/GSM606866.txt.gz\n",
      " - series_id : GSE24616\n",
      " - data_row_count : 45220\n",
      "****************************************************************************************************\n",
      "Table data:\n",
      "   ID_REF        VALUE\n",
      "0       1  2198.829000\n",
      "1       2     1.828270\n",
      "2       3     1.814322\n",
      "3       4     1.802108\n",
      "4       5     1.791820\n"
     ]
    }
   ],
   "source": [
    "########### Explore an example of GSE content\n",
    "print (\"GSM example:\")\n",
    "for gsm_name, gsm in gse.gsms.items():\n",
    "    print (\"Name: \", gsm_name)\n",
    "    print ('*'*100)\n",
    "    print (\"Metadata:\"),\n",
    "    for key, value in gsm.metadata.items():\n",
    "        print(\" - %s : %s\" % (key, \", \".join(value)))\n",
    "    print('*'*100)\n",
    "    print (\"Table data:\"),\n",
    "    print (gsm.table.head())\n",
    "    break"
   ]
  },
  {
   "cell_type": "code",
   "execution_count": 6,
   "metadata": {},
   "outputs": [
    {
     "name": "stdout",
     "output_type": "stream",
     "text": [
      "GPL example:\n",
      "Name:  GPL6457\n",
      "****************************************************************************************************\n",
      "Metadata:\n",
      " - title : Agilent-019161 D. rerio (Zebrafish) Oligo Microarray (V2) G2519F (Feature Number version)\n",
      " - geo_accession : GPL6457\n",
      " - status : Public on Feb 05 2008\n",
      " - submission_date : Feb 05 2008\n",
      " - last_update_date : Dec 06 2012\n",
      " - technology : in situ oligonucleotide\n",
      " - distribution : custom-commercial\n",
      " - organism : Danio rerio\n",
      " - taxid : 7955\n",
      " - manufacturer : Agilent Technologies\n",
      " - manufacture_protocol : see manufacturer's web site at http://www.agilent.com/\n",
      " - catalog_number : G2519F\n",
      " - description : , Agilent has developed a genome-wide zebrafish microarray to enable scientists to study gene expression profiling at the global level and enhance our understanding of zebrafish biology and gene functions related to mammalian models., , Arrays of this design have barcodes that begin with 16019161 or 2519161., , Orientation:, Features are numbered numbered Left-to-Right, Top-to-Bottom as scanned by an Agilent scanner (barcode on the left, DNA on the back surface, scanned through the glass), matching the FeatureNum output from Agilent's Feature Extraction software., , The ID column represents the Agilent Feature Extraction feature number., , Rows and columns are numbered as scanned by an Axon Scanner (barcode on the bottom, DNA on the front surface)., , To match data scanned on an Axon scanner, use the RefNumber column contained in the Agilent-provided GAL file as the ID_REF column in sample submissions., , *** A different version of this platform with the Agilent Probe names in the ID column is assigned accession number GPL7301.\n",
      " - contact_name : ,,Agilent Technologies\n",
      " - contact_email : cag_sales-na@agilent.com\n",
      " - contact_phone : 877-424-4536\n",
      " - contact_department : \n",
      " - contact_institute : Agilent Technologies\n",
      " - contact_address : \n",
      " - contact_city : Palo Alto\n",
      " - contact_state : CA\n",
      " - contact_zip/postal_code : 94304\n",
      " - contact_country : USA\n",
      " - contact_web_link : www.agilent.com\n",
      " - supplementary_file : ftp://ftp.ncbi.nlm.nih.gov/geo/platforms/GPL6nnn/GPL6457/suppl/GPL6457_old_annotations.txt.gz\n",
      " - relation : Alternative to: GPL7301\n",
      " - data_row_count : 45220\n",
      "****************************************************************************************************\n",
      "Table data:\n",
      "   ID  COL  ROW             NAME          SPOT_ID CONTROL_TYPE REFSEQ GB_ACC  \\\n",
      "0   1  266  170  GE_BrightCorner  GE_BrightCorner          pos    NaN    NaN   \n",
      "1   2  266  168       DarkCorner       DarkCorner          pos    NaN    NaN   \n",
      "2   3  266  166       DarkCorner       DarkCorner          pos    NaN    NaN   \n",
      "3   4  266  164       DarkCorner       DarkCorner          pos    NaN    NaN   \n",
      "4   5  266  162       DarkCorner       DarkCorner          pos    NaN    NaN   \n",
      "\n",
      "   GENE GENE_SYMBOL GENE_NAME UNIGENE_ID ENSEMBL_ID TIGR_ID ACCESSION_STRING  \\\n",
      "0   NaN         NaN       NaN        NaN        NaN     NaN              NaN   \n",
      "1   NaN         NaN       NaN        NaN        NaN     NaN              NaN   \n",
      "2   NaN         NaN       NaN        NaN        NaN     NaN              NaN   \n",
      "3   NaN         NaN       NaN        NaN        NaN     NaN              NaN   \n",
      "4   NaN         NaN       NaN        NaN        NaN     NaN              NaN   \n",
      "\n",
      "  CHROMOSOMAL_LOCATION DESCRIPTION GO_ID SEQUENCE  \n",
      "0                  NaN         NaN   NaN      NaN  \n",
      "1                  NaN         NaN   NaN      NaN  \n",
      "2                  NaN         NaN   NaN      NaN  \n",
      "3                  NaN         NaN   NaN      NaN  \n",
      "4                  NaN         NaN   NaN      NaN  \n"
     ]
    }
   ],
   "source": [
    "print (\"GPL example:\")\n",
    "for gpl_name, gpl in gse.gpls.items():\n",
    "    print (\"Name: \", gpl_name)\n",
    "    print ('*'*100)\n",
    "    print (\"Metadata:\"),\n",
    "    for key, value in gpl.metadata.items():\n",
    "        print (\" - %s : %s\" % (key, \", \".join(value)))\n",
    "    print ('*'*100)\n",
    "    print (\"Table data:\"),\n",
    "    print (gpl.table.head())\n",
    "    break\n"
   ]
  },
  {
   "cell_type": "markdown",
   "metadata": {
    "extensions": {
     "jupyter_dashboards": {
      "version": 1,
      "views": {
       "grid_default": {
        "col": 0,
        "height": 4,
        "hidden": false,
        "row": 16,
        "width": 4
       },
       "report_default": {
        "hidden": false
       }
      }
     }
    },
    "nbpresent": {
     "id": "3e38e7a7-46fe-4d24-8142-44c4f15e7966"
    }
   },
   "source": [
    "# Read age index data file"
   ]
  },
  {
   "cell_type": "markdown",
   "metadata": {
    "extensions": {
     "jupyter_dashboards": {
      "version": 1,
      "views": {
       "grid_default": {
        "col": 0,
        "height": 10,
        "hidden": false,
        "row": 24,
        "width": 12
       },
       "report_default": {
        "hidden": false
       }
      }
     }
    },
    "nbpresent": {
     "id": "408eb224-5f3a-4276-8e3f-0ca710cd333f"
    }
   },
   "source": [
    "# Pre processing gene expression data:\n",
    "Gene expression data needs to be extracted from GSE data structure. Preprocessing steps are:\n",
    "1. Extract the metadata\n",
    "2. Extract the gene expression data\n",
    "3. Add age index data to the gene expression data\n",
    "4. Get average for the genes with multiple probesets\n",
    "5. Select mixed and female samples \n",
    "6. Get the average gene expression for similar time points¶"
   ]
  },
  {
   "cell_type": "markdown",
   "metadata": {
    "extensions": {
     "jupyter_dashboards": {
      "version": 1,
      "views": {
       "grid_default": {
        "col": 8,
        "height": 4,
        "hidden": false,
        "row": 16,
        "width": 4
       },
       "report_default": {
        "hidden": false
       }
      }
     }
    },
    "nbpresent": {
     "id": "3c4dc992-ddf5-4f1e-8b33-e9d3db3548b4"
    }
   },
   "source": [
    "## 1) Extract  metadata of samples in gene expression data\n",
    "Complementary information about the samples is stores in  **gsm.metadata** including sex, developmental stage and the sample name. A sample metadata looks like:\n",
    "\n",
    "\"characteristics_ch1 : strain: wild type, developmental stage: adult, developmental timing: 1y9m, gender: mixed, number of individuals per sample: 2\"\n",
    "\n",
    "All these infomations are stored in an string and we need to extract them by some String Formatting Operations."
   ]
  },
  {
   "cell_type": "code",
   "execution_count": 7,
   "metadata": {},
   "outputs": [
    {
     "data": {
      "text/html": [
       "<div>\n",
       "<style scoped>\n",
       "    .dataframe tbody tr th:only-of-type {\n",
       "        vertical-align: middle;\n",
       "    }\n",
       "\n",
       "    .dataframe tbody tr th {\n",
       "        vertical-align: top;\n",
       "    }\n",
       "\n",
       "    .dataframe thead th {\n",
       "        text-align: right;\n",
       "    }\n",
       "</style>\n",
       "<table border=\"1\" class=\"dataframe\">\n",
       "  <thead>\n",
       "    <tr style=\"text-align: right;\">\n",
       "      <th></th>\n",
       "      <th>sample_name</th>\n",
       "      <th>sex</th>\n",
       "      <th>stage</th>\n",
       "      <th>time</th>\n",
       "    </tr>\n",
       "  </thead>\n",
       "  <tbody>\n",
       "    <tr>\n",
       "      <th>GSM606866</th>\n",
       "      <td>GSM606866</td>\n",
       "      <td>mixed</td>\n",
       "      <td>unfertilised egg</td>\n",
       "      <td>0min</td>\n",
       "    </tr>\n",
       "    <tr>\n",
       "      <th>GSM606867</th>\n",
       "      <td>GSM606867</td>\n",
       "      <td>mixed</td>\n",
       "      <td>unfertilised egg</td>\n",
       "      <td>0min</td>\n",
       "    </tr>\n",
       "    <tr>\n",
       "      <th>GSM606868</th>\n",
       "      <td>GSM606868</td>\n",
       "      <td>mixed</td>\n",
       "      <td>zygote</td>\n",
       "      <td>15min</td>\n",
       "    </tr>\n",
       "    <tr>\n",
       "      <th>GSM606869</th>\n",
       "      <td>GSM606869</td>\n",
       "      <td>mixed</td>\n",
       "      <td>zygote</td>\n",
       "      <td>15min</td>\n",
       "    </tr>\n",
       "    <tr>\n",
       "      <th>GSM606870</th>\n",
       "      <td>GSM606870</td>\n",
       "      <td>mixed</td>\n",
       "      <td>cleavage</td>\n",
       "      <td>45min</td>\n",
       "    </tr>\n",
       "  </tbody>\n",
       "</table>\n",
       "</div>"
      ],
      "text/plain": [
       "          sample_name    sex             stage   time\n",
       "GSM606866   GSM606866  mixed  unfertilised egg   0min\n",
       "GSM606867   GSM606867  mixed  unfertilised egg   0min\n",
       "GSM606868   GSM606868  mixed            zygote  15min\n",
       "GSM606869   GSM606869  mixed            zygote  15min\n",
       "GSM606870   GSM606870  mixed          cleavage  45min"
      ]
     },
     "execution_count": 7,
     "metadata": {},
     "output_type": "execute_result"
    }
   ],
   "source": [
    "############### Extract GSE metadata\n",
    "characteristics = {\"stage\":[],\"time\":[],\"sex\":[],\"sample_name\":[]}\n",
    "for gsm_name, gsm in sorted(gse.gsms.items()): # gsm: metadata, columns, table\n",
    "    characteristics[\"stage\"].append(gsm.metadata['characteristics_ch1'][1].split(\":\")[1].strip())\n",
    "    characteristics[\"time\"].append(gsm.metadata['characteristics_ch1'][2].split(\":\")[1].strip())\n",
    "    characteristics[\"sex\"].append(gsm.metadata['characteristics_ch1'][3].split(\":\")[1].strip())\n",
    "    characteristics[\"sample_name\"].append(gsm_name)\n",
    "char_df = pd.DataFrame(characteristics,index = characteristics[\"sample_name\"])\n",
    "char_df.head()"
   ]
  },
  {
   "cell_type": "markdown",
   "metadata": {
    "extensions": {
     "jupyter_dashboards": {
      "version": 1,
      "views": {
       "grid_default": {
        "col": 0,
        "height": 4,
        "hidden": false,
        "row": 20,
        "width": 4
       },
       "report_default": {
        "hidden": false
       }
      }
     }
    },
    "nbpresent": {
     "id": "7fd2694c-3564-4ace-a615-29317bdc844f"
    }
   },
   "source": [
    "## 2) Extract the gene expression data"
   ]
  },
  {
   "cell_type": "code",
   "execution_count": 8,
   "metadata": {},
   "outputs": [
    {
     "data": {
      "image/png": "[encoded data removed]",
      "text/plain": [
       "<matplotlib.figure.Figure at 0x108ff5470>"
      ]
     },
     "metadata": {},
     "output_type": "display_data"
    }
   ],
   "source": [
    "############### Extract the gene expression data\n",
    "data = gse.pivot_samples('VALUE') \n",
    "############# Add ProbeID as the index of gene expression dataframe\n",
    "gpl = list(gse.gpls.values())[0]\n",
    "data.set_index(gpl.table.SPOT_ID,inplace=True)\n",
    "############ Let's look at the gene expression data\n",
    "data.head()\n",
    "plt.imshow(np.log(data.values),aspect='auto')\n",
    "plt.show()"
   ]
  },
  {
   "cell_type": "markdown",
   "metadata": {
    "extensions": {
     "jupyter_dashboards": {
      "version": 1,
      "views": {
       "grid_default": {
        "col": 8,
        "height": 4,
        "hidden": false,
        "row": 38,
        "width": 4
       },
       "report_default": {
        "hidden": false
       }
      }
     }
    },
    "nbpresent": {
     "id": "7bb4a299-bdc6-4738-b978-3789d427b9f9"
    }
   },
   "source": [
    "## 3) Add age index data to the gene expression data"
   ]
  },
  {
   "cell_type": "markdown",
   "metadata": {
    "extensions": {
     "jupyter_dashboards": {
      "version": 1,
      "views": {
       "grid_default": {
        "col": 8,
        "height": 4,
        "hidden": false,
        "row": 42,
        "width": 4
       },
       "report_default": {
        "hidden": false
       }
      }
     }
    },
    "nbpresent": {
     "id": "333ea488-41b0-4811-b162-cf2bef415c00"
    }
   },
   "source": [
    "## 4) Get average for the genes with multiple probesets"
   ]
  },
  {
   "cell_type": "markdown",
   "metadata": {
    "extensions": {
     "jupyter_dashboards": {
      "version": 1,
      "views": {
       "grid_default": {
        "col": 8,
        "height": 4,
        "hidden": false,
        "row": 20,
        "width": 4
       },
       "report_default": {
        "hidden": false
       }
      }
     }
    },
    "nbpresent": {
     "id": "e0616dfb-d94b-4eef-b293-6c555829d48b"
    }
   },
   "source": [
    "## 5) Select mixed and female samples"
   ]
  },
  {
   "cell_type": "markdown",
   "metadata": {
    "extensions": {
     "jupyter_dashboards": {
      "version": 1,
      "views": {
       "grid_default": {
        "col": 0,
        "height": 4,
        "hidden": false,
        "row": 50,
        "width": 4
       },
       "report_default": {
        "hidden": false
       }
      }
     }
    },
    "nbpresent": {
     "id": "6f267dcd-e63e-4d25-905b-16e90ab715c5"
    }
   },
   "source": [
    "## 6) Get the average gene expression for similar time points"
   ]
  },
  {
   "cell_type": "markdown",
   "metadata": {
    "extensions": {
     "jupyter_dashboards": {
      "version": 1,
      "views": {
       "grid_default": {
        "col": 0,
        "height": 4,
        "hidden": false,
        "row": 64,
        "width": 4
       },
       "report_default": {
        "hidden": false
       }
      }
     }
    },
    "nbpresent": {
     "id": "0aad5966-56bf-4d4c-a671-9df024a59977"
    }
   },
   "source": [
    "# TAI Calculation"
   ]
  },
  {
   "cell_type": "markdown",
   "metadata": {
    "extensions": {
     "jupyter_dashboards": {
      "version": 1,
      "views": {
       "grid_default": {
        "col": 8,
        "height": 4,
        "hidden": false,
        "row": 64,
        "width": 4
       },
       "report_default": {
        "hidden": false
       }
      }
     }
    },
    "nbpresent": {
     "id": "b004882a-8380-47c1-a279-5c3954b84bf6"
    }
   },
   "source": [
    "# Save the pre-processed expression data to a file"
   ]
  }
 ],
 "metadata": {
  "extensions": {
   "jupyter_dashboards": {
    "activeView": "report_default",
    "version": 1,
    "views": {
     "grid_default": {
      "cellMargin": 10,
      "defaultCellHeight": 20,
      "maxColumns": 12,
      "name": "grid",
      "type": "grid"
     },
     "report_default": {
      "name": "report",
      "type": "report"
     }
    }
   }
  },
  "kernelspec": {
   "display_name": "Python [conda env:py3]",
   "language": "python",
   "name": "conda-env-py3-py"
  },
  "language_info": {
   "codemirror_mode": {
    "name": "ipython",
    "version": 3
   },
   "file_extension": ".py",
   "mimetype": "text/x-python",
   "name": "python",
   "nbconvert_exporter": "python",
   "pygments_lexer": "ipython3",
   "version": "3.6.3"
  },
  "widgets": {
   "application/vnd.jupyter.widget-state+json": {
    "state": {},
    "version_major": 2,
    "version_minor": 0
   }
  }
 },
 "nbformat": 4,
 "nbformat_minor": 2
}
